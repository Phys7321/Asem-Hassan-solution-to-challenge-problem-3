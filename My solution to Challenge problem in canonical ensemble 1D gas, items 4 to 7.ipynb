{
 "cells": [
  {
   "cell_type": "markdown",
   "metadata": {},
   "source": [
    "I copy-pasted the code given in canonical ensemble.ipynb here to adjust it here to solve the problem, I have defined a function (MC_1Dgas) taking arguments N=nwalkers and Temp=temperature and MCsteps_to_equilibrium, I also cancelled the declaration of T as a global variable."
   ]
  },
  {
   "cell_type": "code",
   "execution_count": 1,
   "metadata": {},
   "outputs": [],
   "source": [
    "%matplotlib inline\n",
    "import numpy as np\n",
    "from matplotlib import pyplot\n",
    "\n",
    "def MC_1Dgas(N,Temp,MCsteps_to_equilibrium):\n",
    "    nwalkers = N\n",
    "    v = np.zeros(nwalkers)\n",
    "    v.fill(20)\n",
    "    T = Temp\n",
    "    \n",
    "\n",
    "    def metropolis(vold,T):\n",
    "        delta = 5\n",
    "        vtrial = np.random.random()    \n",
    "        vtrial = vold+(2*vtrial-1)*delta\n",
    "        weight = np.exp(-(vtrial**2-vold**2)/T)\n",
    "        vnew = vold\n",
    "        if(weight >= 1): #Accept\n",
    "            vnew = vtrial\n",
    "        elif(weight != 0):\n",
    "            r = np.random.random()\n",
    "            if(r <= weight): #Accept\n",
    "                vnew = vtrial\n",
    "        return vnew\n",
    "\n",
    "    # Warmup loop\n",
    "\n",
    "    Nwarmup = MCsteps_to_equilibrium\n",
    "    Ewarmup = np.zeros(Nwarmup)\n",
    "\n",
    "    Naccept = 0.\n",
    "    for j in range(Nwarmup):\n",
    "        for i in range(nwalkers):\n",
    "            vold = v[i]\n",
    "            v[i] = metropolis(v[i],T)\n",
    "            if(v[i] != vold):\n",
    "                Naccept += 1\n",
    "        \n",
    "        Ewarmup[j] = np.sum(v**2)/nwalkers\n",
    "\n",
    "    x = np.arange(0,Nwarmup,1)\n",
    "#    pyplot.plot(x,Ewarmup,ls='-',c='blue');\n",
    "\n",
    "\n",
    "#   print(\"Acceptance ratio= \", Naccept/float(Nwarmup*nwalkers))\n",
    "\n",
    "    # Measurement loop\n",
    "\n",
    "    Nmeasure = 100000\n",
    "    Naccept = 0.\n",
    "    E = 0.\n",
    "    E2 = 0.\n",
    "    for j in range(Nmeasure):\n",
    "        for i in range(nwalkers):\n",
    "            vold = v[i]\n",
    "            v[i] = metropolis(v[i],T)\n",
    "            if(v[i] != vold):\n",
    "                Naccept += 1\n",
    "\n",
    "        E += np.sum(v**2)\n",
    "        E2 += np.sum(v**4)\n",
    "\n",
    "    E = E/Nmeasure/nwalkers\n",
    "    E2 = E2/Nmeasure/nwalkers\n",
    "#    print(\"<Energy>=\", E)\n",
    "#    print(\"<Energy^2>=\", E2)\n",
    "#    print(\"Error=\", np.sqrt((E2-E**2)/Nmeasure/nwalkers))\n",
    "\n",
    "#    print(\"Acceptance ratio= \", Naccept/float(Nmeasure*nwalkers))\n",
    "        \n",
    "    return(E,E2)"
   ]
  },
  {
   "cell_type": "markdown",
   "metadata": {},
   "source": [
    "# Item 4) mean energy per particle for T=10,100,400:"
   ]
  },
  {
   "cell_type": "code",
   "execution_count": 2,
   "metadata": {},
   "outputs": [],
   "source": [
    "E=np.zeros(3)\n",
    "E2=np.zeros(3)\n",
    "Temperature=[10,100,400]\n",
    "for i in range(len(Temperature)):\n",
    "    (e,e2)=MC_1Dgas(20,Temperature[i],100)\n",
    "    E[i]=e\n",
    "    E2[i]=e2\n"
   ]
  },
  {
   "cell_type": "code",
   "execution_count": 3,
   "metadata": {},
   "outputs": [
    {
     "data": {
      "text/plain": [
       "array([  4.991346  ,  49.93965684, 199.68065369])"
      ]
     },
     "execution_count": 3,
     "metadata": {},
     "output_type": "execute_result"
    }
   ],
   "source": [
    "E #this array is the energy per particle for the given temperatures (10,100,400)"
   ]
  },
  {
   "cell_type": "markdown",
   "metadata": {},
   "source": [
    "the previous calculations were held with the number of warmup steps to equilibrium = 100, we investigate how this number \n",
    "changes with Temperature, by varying it until the difference in the mean energy per particle in each trial is below some\n",
    "threshold epsilon, epsilon is chosen to = 0.2 (to make the convergence fast, when I tried 0.05 it took so long), and we start by 5 warmup steps and increment by 5 each time until the condition of convergence is satisfied:"
   ]
  },
  {
   "cell_type": "code",
   "execution_count": 4,
   "metadata": {},
   "outputs": [],
   "source": [
    "def investigate_Nwarmup(N,T):\n",
    "    \n",
    "    E_variedwithNwarmup=[]\n",
    "    epsilon=0.2\n",
    "    (e,e2)=MC_1Dgas(N,T,5)\n",
    "    E_variedwithNwarmup.append(e)\n",
    "    (e,e2)=MC_1Dgas(N,T,10)\n",
    "    E_variedwithNwarmup.append(e)\n",
    "    i=1\n",
    "    while (np.abs(E_variedwithNwarmup[i]-E_variedwithNwarmup[i-1])>epsilon):\n",
    "        i+=1\n",
    "        (e,e2)=MC_1Dgas(N,T,5+5*i)\n",
    "        E_variedwithNwarmup.append(e)\n",
    "        \n",
    "        \n",
    "    return 10+5*i\n",
    "        \n"
   ]
  },
  {
   "cell_type": "code",
   "execution_count": 5,
   "metadata": {},
   "outputs": [],
   "source": [
    "MCsteps_to_equilibrium=[]\n",
    "for t in Temperature:\n",
    "    Nwarmup=investigate_Nwarmup(20,t)\n",
    "    MCsteps_to_equilibrium.append(Nwarmup)"
   ]
  },
  {
   "cell_type": "code",
   "execution_count": 6,
   "metadata": {},
   "outputs": [
    {
     "data": {
      "text/plain": [
       "[15, 15, 25]"
      ]
     },
     "execution_count": 6,
     "metadata": {},
     "output_type": "execute_result"
    }
   ],
   "source": [
    "MCsteps_to_equilibrium"
   ]
  },
  {
   "cell_type": "markdown",
   "metadata": {},
   "source": [
    "to investigate the dependence of Nwarmup on N(number of atoms):  "
   ]
  },
  {
   "cell_type": "code",
   "execution_count": 7,
   "metadata": {},
   "outputs": [],
   "source": [
    "Nwarmup1=investigate_Nwarmup(10,100)\n",
    "Nwarmup2=investigate_Nwarmup(40,100)"
   ]
  },
  {
   "cell_type": "code",
   "execution_count": 8,
   "metadata": {},
   "outputs": [
    {
     "name": "stdout",
     "output_type": "stream",
     "text": [
      " for N=10, Nwarmup= 30 \n",
      " for N=40, Nwarmup= 15\n"
     ]
    }
   ],
   "source": [
    "print(' for N=10, Nwarmup=',Nwarmup1,'\\n','for N=40, Nwarmup=',Nwarmup2)"
   ]
  },
  {
   "cell_type": "markdown",
   "metadata": {},
   "source": [
    "the number of MCsteps needed for equilibration for N=10 is larger than the case N=40, this makes sense since it is easier\n",
    "for the larger system to equilibrate more quickly."
   ]
  },
  {
   "cell_type": "markdown",
   "metadata": {},
   "source": [
    "# Item 5): the probability P(E)dE for the system of N particles to have a total energy between E and E+dE : "
   ]
  },
  {
   "cell_type": "markdown",
   "metadata": {},
   "source": [
    "total Energy E = Number of particles * mean energy per particle, we choose N=20, T=10, Nwarmup=100 and dE=1,\n",
    "We need to adjust the MC_1Dgas function to return the total Energy array at each MCstep, and from this large array we would be able to calculate the propabilities:"
   ]
  },
  {
   "cell_type": "code",
   "execution_count": 9,
   "metadata": {},
   "outputs": [],
   "source": [
    "def MC_1Dgas_givesEarray(N,Temp,MCsteps_to_equilibrium):\n",
    "    nwalkers = N\n",
    "    v = np.zeros(nwalkers)\n",
    "    v.fill(20)\n",
    "    T = Temp\n",
    "    \n",
    "\n",
    "    def metropolis(vold,T):\n",
    "        delta = 5\n",
    "        vtrial = np.random.random()    \n",
    "        vtrial = vold+(2*vtrial-1)*delta\n",
    "        weight = np.exp(-(vtrial**2-vold**2)/T)\n",
    "        vnew = vold\n",
    "        if(weight >= 1): #Accept\n",
    "            vnew = vtrial\n",
    "        elif(weight != 0):\n",
    "            r = np.random.random()\n",
    "            if(r <= weight): #Accept\n",
    "                vnew = vtrial\n",
    "        return vnew\n",
    "\n",
    "    # Warmup loop\n",
    "\n",
    "    Nwarmup = MCsteps_to_equilibrium\n",
    "    Ewarmup = np.zeros(Nwarmup)\n",
    "\n",
    "    Naccept = 0.\n",
    "    for j in range(Nwarmup):\n",
    "        for i in range(nwalkers):\n",
    "            vold = v[i]\n",
    "            v[i] = metropolis(v[i],T)\n",
    "            if(v[i] != vold):\n",
    "                Naccept += 1\n",
    "        \n",
    "        Ewarmup[j] = np.sum(v**2)/nwalkers\n",
    "\n",
    "    x = np.arange(0,Nwarmup,1)\n",
    "#    pyplot.plot(x,Ewarmup,ls='-',c='blue');\n",
    "\n",
    "\n",
    "#   print(\"Acceptance ratio= \", Naccept/float(Nwarmup*nwalkers))\n",
    "\n",
    "    # Measurement loop\n",
    "\n",
    "    Nmeasure = 100000\n",
    "    Naccept = 0.\n",
    "    E = 0.\n",
    "    E2 = 0.\n",
    "    Earray=[]\n",
    "    for j in range(Nmeasure):\n",
    "        for i in range(nwalkers):\n",
    "            vold = v[i]\n",
    "            v[i] = metropolis(v[i],T)\n",
    "            if(v[i] != vold):\n",
    "                Naccept += 1\n",
    "        \n",
    "        E += np.sum(v**2)\n",
    "        E2 += np.sum(v**4)\n",
    "        Earray.append(np.sum(v**2))\n",
    "\n",
    "    E = E/Nmeasure/nwalkers\n",
    "    E2 = E2/Nmeasure/nwalkers\n",
    "    \n",
    "#    print(\"<Energy>=\", E)\n",
    "#    print(\"<Energy^2>=\", E2)\n",
    "#    print(\"Error=\", np.sqrt((E2-E**2)/Nmeasure/nwalkers))\n",
    "\n",
    "#    print(\"Acceptance ratio= \", Naccept/float(Nmeasure*nwalkers))\n",
    "        \n",
    "    return(E,E2,Earray)"
   ]
  },
  {
   "cell_type": "code",
   "execution_count": 10,
   "metadata": {},
   "outputs": [],
   "source": [
    "(e,e2,Earray)=MC_1Dgas_givesEarray(20,10,100)"
   ]
  },
  {
   "cell_type": "code",
   "execution_count": 11,
   "metadata": {},
   "outputs": [
    {
     "data": {
      "text/plain": [
       "100000"
      ]
     },
     "execution_count": 11,
     "metadata": {},
     "output_type": "execute_result"
    }
   ],
   "source": [
    "len(Earray)"
   ]
  },
  {
   "cell_type": "markdown",
   "metadata": {},
   "source": [
    "making a histogram of number of occurances, and dividing by len(Earray) to get the probabilities:"
   ]
  },
  {
   "cell_type": "code",
   "execution_count": 12,
   "metadata": {},
   "outputs": [],
   "source": [
    "import math\n",
    "dE=1\n",
    "mx=np.max(Earray)\n",
    "mn=np.min(Earray)\n",
    "Nofbins=int((math.floor(mx)-math.floor(mn))/dE)\n",
    "Prob=np.zeros(Nofbins)\n",
    "\n",
    "for x in Earray:\n",
    "        i=math.floor((x-mn)/dE)            # this loop populates the bins in the histogram\n",
    "        Prob[i-1] +=1\n",
    "    \n",
    "for i in range(Nofbins):\n",
    "    Prob[i]=Prob[i]/len(Earray)         # normalizing to get the probabilites"
   ]
  },
  {
   "cell_type": "code",
   "execution_count": 13,
   "metadata": {},
   "outputs": [],
   "source": [
    "Erange=range(math.floor(mn),math.floor(mx),dE)"
   ]
  },
  {
   "cell_type": "code",
   "execution_count": 14,
   "metadata": {},
   "outputs": [
    {
     "data": {
      "text/plain": [
       "Text(0,0.5,'Probability')"
      ]
     },
     "execution_count": 14,
     "metadata": {},
     "output_type": "execute_result"
    },
    {
     "data": {
      "image/png": "[encoded data removed]",
      "text/plain": [
       "<Figure size 432x288 with 1 Axes>"
      ]
     },
     "metadata": {},
     "output_type": "display_data"
    }
   ],
   "source": [
    "pyplot.plot(Erange,Prob,ls='-',c='blue');\n",
    "pyplot.xlabel('Total Energy')\n",
    "pyplot.ylabel('Probability')"
   ]
  },
  {
   "cell_type": "markdown",
   "metadata": {},
   "source": [
    "the probabilites follow a nearly exponential decay trend from total E =100, I doubt that the lower energies are artifacts\n",
    "due to the limited number of MCsteps, I expect that they will decrease furthur in probability for larger number of MCsteps"
   ]
  },
  {
   "cell_type": "code",
   "execution_count": 15,
   "metadata": {},
   "outputs": [
    {
     "name": "stderr",
     "output_type": "stream",
     "text": [
      "/home/asem/anaconda3/lib/python3.6/site-packages/ipykernel_launcher.py:3: RuntimeWarning: divide by zero encountered in log\n",
      "  This is separate from the ipykernel package so we can avoid doing imports until\n"
     ]
    },
    {
     "data": {
      "text/plain": [
       "Text(0,0.5,'ln(Probability)')"
      ]
     },
     "execution_count": 15,
     "metadata": {},
     "output_type": "execute_result"
    },
    {
     "data": {
      "image/png": "[encoded data removed]",
      "text/plain": [
       "<Figure size 432x288 with 1 Axes>"
      ]
     },
     "metadata": {},
     "output_type": "display_data"
    }
   ],
   "source": [
    "lnProb=np.zeros(Nofbins)\n",
    "for i in range(Nofbins):\n",
    "    lnProb[i]=np.log(Prob[i])\n",
    "\n",
    "pyplot.plot(Erange,lnProb)\n",
    "pyplot.xlabel('Total Energy')\n",
    "pyplot.ylabel('ln(Probability)')"
   ]
  },
  {
   "cell_type": "markdown",
   "metadata": {},
   "source": [
    "the plot shows a straight line in the range E =100 to E=250"
   ]
  },
  {
   "cell_type": "markdown",
   "metadata": {},
   "source": [
    "# Item 6): Compute the mean energy for T from 10 to 110 & evaluate Cv per particle:"
   ]
  },
  {
   "cell_type": "code",
   "execution_count": 16,
   "metadata": {},
   "outputs": [],
   "source": [
    "Temp = range(10,120,10)  # this gives the wanted range"
   ]
  },
  {
   "cell_type": "code",
   "execution_count": 17,
   "metadata": {},
   "outputs": [],
   "source": [
    "E=[]\n",
    "E2=[]\n",
    "\n",
    "for t in Temp:\n",
    "    (e,e2)=MC_1Dgas(20,t,100)\n",
    "    E.append(e)\n",
    "    E2.append(e)"
   ]
  },
  {
   "cell_type": "code",
   "execution_count": 18,
   "metadata": {},
   "outputs": [
    {
     "data": {
      "text/plain": [
       "[5.000481353725761,\n",
       " 10.008414896756458,\n",
       " 15.071172995970423,\n",
       " 19.98523998867028,\n",
       " 24.973972051130694,\n",
       " 29.977645914573987,\n",
       " 35.01649459489141,\n",
       " 39.847194576526235,\n",
       " 45.145878075631586,\n",
       " 49.686457401717036,\n",
       " 54.94085945403066]"
      ]
     },
     "execution_count": 18,
     "metadata": {},
     "output_type": "execute_result"
    }
   ],
   "source": [
    "E"
   ]
  },
  {
   "cell_type": "markdown",
   "metadata": {},
   "source": [
    "Evaluate Cv based on energy differences, and divide by 10 which is the Temperature differences:"
   ]
  },
  {
   "cell_type": "code",
   "execution_count": 19,
   "metadata": {},
   "outputs": [
    {
     "data": {
      "text/plain": [
       "array([0.50079335, 0.50627581, 0.4914067 , 0.49887321, 0.50036739,\n",
       "       0.50388487, 0.48307   , 0.52986835, 0.45405793, 0.52544021])"
      ]
     },
     "execution_count": 19,
     "metadata": {},
     "output_type": "execute_result"
    }
   ],
   "source": [
    "Cv=np.zeros(10)\n",
    "for i in range(10):\n",
    "    Cv[i]=(E[i+1]-E[i])/10\n",
    "Cv"
   ]
  },
  {
   "cell_type": "markdown",
   "metadata": {},
   "source": [
    "it can be seen that Cv = 0.5, which is expected from the equipartition theorem of an ideal gas in 1D: Cv=0.5*KB"
   ]
  },
  {
   "cell_type": "markdown",
   "metadata": {},
   "source": [
    "# Item 7): calculating Cv from energy fluctuations: "
   ]
  },
  {
   "cell_type": "markdown",
   "metadata": {},
   "source": [
    "for T=10 & T=40: "
   ]
  },
  {
   "cell_type": "code",
   "execution_count": 20,
   "metadata": {},
   "outputs": [
    {
     "data": {
      "text/plain": [
       "-20.00433241523326"
      ]
     },
     "execution_count": 20,
     "metadata": {},
     "output_type": "execute_result"
    }
   ],
   "source": [
    "E2[0]-(E[0])**2"
   ]
  },
  {
   "cell_type": "code",
   "execution_count": 21,
   "metadata": {},
   "outputs": [
    {
     "data": {
      "text/plain": [
       "-379.42457741607535"
      ]
     },
     "execution_count": 21,
     "metadata": {},
     "output_type": "execute_result"
    }
   ],
   "source": [
    "E2[3]-(E[3])**2"
   ]
  },
  {
   "cell_type": "code",
   "execution_count": 22,
   "metadata": {},
   "outputs": [
    {
     "name": "stdout",
     "output_type": "stream",
     "text": [
      " for T=10, Cv = -0.2000433241523326 \n",
      " for T=40, Cv = -0.23714036088504709\n"
     ]
    }
   ],
   "source": [
    "print(' for T=10, Cv =',(E2[0]-(E[0])**2)/10**2,'\\n','for T=40, Cv =',(E2[3]-(E[3])**2)/40**2)"
   ]
  },
  {
   "cell_type": "markdown",
   "metadata": {},
   "source": [
    "the magnitude of both Cv is around 0.2, which is of the same order of magnitude as the expected value of 0.5, the \n",
    "discrepancy could be due to the small number of particles in the simulation or the finiteness of the number of \n",
    "MCsteps"
   ]
  }
 ],
 "metadata": {
  "kernelspec": {
   "display_name": "Python 3",
   "language": "python",
   "name": "python3"
  },
  "language_info": {
   "codemirror_mode": {
    "name": "ipython",
    "version": 3
   },
   "file_extension": ".py",
   "mimetype": "text/x-python",
   "name": "python",
   "nbconvert_exporter": "python",
   "pygments_lexer": "ipython3",
   "version": "3.6.5"
  }
 },
 "nbformat": 4,
 "nbformat_minor": 2
}
